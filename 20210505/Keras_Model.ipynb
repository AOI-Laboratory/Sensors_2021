{
  "nbformat": 4,
  "nbformat_minor": 0,
  "metadata": {
    "language_info": {
      "codemirror_mode": {
        "name": "ipython",
        "version": 3
      },
      "file_extension": ".py",
      "mimetype": "text/x-python",
      "name": "python",
      "nbconvert_exporter": "python",
      "pygments_lexer": "ipython3",
      "version": "3.7.7-final"
    },
    "orig_nbformat": 2,
    "kernelspec": {
      "name": "python3",
      "display_name": "Python 3"
    },
    "colab": {
      "name": "Keras_Model.ipynb",
      "provenance": [],
      "collapsed_sections": []
    },
    "accelerator": "GPU"
  },
  "cells": [
    {
      "cell_type": "markdown",
      "metadata": {
        "id": "Lf6q3pOcRTUB"
      },
      "source": [
        "Author: Eugene Su\n",
        "\n",
        "Email: su.eugene@gmail.com\n",
        "\n",
        "https://sites.google.com/view/smartrobot/lab"
      ]
    },
    {
      "cell_type": "code",
      "metadata": {
        "id": "YKDyLApqRGHw"
      },
      "source": [
        "import tensorflow as tf\n",
        "from tensorflow import keras\n",
        "from tensorflow.keras import layers"
      ],
      "execution_count": null,
      "outputs": []
    },
    {
      "cell_type": "markdown",
      "metadata": {
        "id": "ksoOURIM_2Yu"
      },
      "source": [
        "# TensorFlow Keras建立model，有Sequential API和Functional API兩種方式"
      ]
    },
    {
      "cell_type": "markdown",
      "metadata": {
        "id": "pgD372d6DMYY"
      },
      "source": [
        "## Sequential API\n",
        "\n",
        "使用Sequential API建立模型，優點是簡單，缺點是限制就多，限制如下，\n",
        "\n",
        "*   除了輸入層可以稍後設定，其它層必須逐層設置網路\n",
        "*   只能支援單輸入和單輸出的模型\n",
        "\n"
      ]
    },
    {
      "cell_type": "markdown",
      "metadata": {
        "id": "Djan03kbHpKA"
      },
      "source": [
        "**方法一**: 無參數初始化tf.keras.Sequential()，之後呼叫add()依序增加各層網路"
      ]
    },
    {
      "cell_type": "code",
      "metadata": {
        "colab": {
          "base_uri": "https://localhost:8080/"
        },
        "id": "9aC9DYnkQy0Z",
        "outputId": "e8de811e-c30b-400f-8eeb-6b10ebaa8a26"
      },
      "source": [
        "model = keras.models.Sequential()\n",
        "model.add(layers.InputLayer(input_shape=(28, 28, 1)))\n",
        "model.add(layers.Flatten())\n",
        "model.add(layers.Dense(128, activation='relu'))\n",
        "model.add(layers.Dense(10, activation='softmax'))\n",
        "\n",
        "model.summary()"
      ],
      "execution_count": null,
      "outputs": [
        {
          "output_type": "stream",
          "text": [
            "Model: \"sequential\"\n",
            "_________________________________________________________________\n",
            "Layer (type)                 Output Shape              Param #   \n",
            "=================================================================\n",
            "flatten (Flatten)            (None, 784)               0         \n",
            "_________________________________________________________________\n",
            "dense (Dense)                (None, 128)               100480    \n",
            "_________________________________________________________________\n",
            "dense_1 (Dense)              (None, 10)                1290      \n",
            "=================================================================\n",
            "Total params: 101,770\n",
            "Trainable params: 101,770\n",
            "Non-trainable params: 0\n",
            "_________________________________________________________________\n"
          ],
          "name": "stdout"
        }
      ]
    },
    {
      "cell_type": "markdown",
      "metadata": {
        "id": "HN64YPFAUJWl"
      },
      "source": [
        "**方法二**: 設定input_shape的方式取代tf.keras.layers.InputLayer"
      ]
    },
    {
      "cell_type": "code",
      "metadata": {
        "colab": {
          "base_uri": "https://localhost:8080/"
        },
        "id": "LH_FosIpUgI0",
        "outputId": "c001aaa9-06d5-4b4b-f996-c113216606ee"
      },
      "source": [
        "model = keras.models.Sequential()\n",
        "model.add(layers.Flatten(input_shape=(28, 28, 1)))\n",
        "model.add(layers.Dense(128, activation='relu'))\n",
        "model.add(layers.Dense(10, activation='softmax'))\n",
        "\n",
        "model.summary()"
      ],
      "execution_count": null,
      "outputs": [
        {
          "output_type": "stream",
          "text": [
            "Model: \"sequential_1\"\n",
            "_________________________________________________________________\n",
            "Layer (type)                 Output Shape              Param #   \n",
            "=================================================================\n",
            "flatten_1 (Flatten)          (None, 784)               0         \n",
            "_________________________________________________________________\n",
            "dense_2 (Dense)              (None, 128)               100480    \n",
            "_________________________________________________________________\n",
            "dense_3 (Dense)              (None, 10)                1290      \n",
            "=================================================================\n",
            "Total params: 101,770\n",
            "Trainable params: 101,770\n",
            "Non-trainable params: 0\n",
            "_________________________________________________________________\n"
          ],
          "name": "stdout"
        }
      ]
    },
    {
      "cell_type": "markdown",
      "metadata": {
        "id": "GKcu0f0_W7ev"
      },
      "source": [
        "**方法三**: 呼叫build()的方式設定輸入層\n",
        "\n",
        "注意，此方法輸入層的維度必須包含batch size"
      ]
    },
    {
      "cell_type": "code",
      "metadata": {
        "colab": {
          "base_uri": "https://localhost:8080/"
        },
        "id": "PyewunNJVF0L",
        "outputId": "37e3dbbd-3be1-4d1c-81bb-0a3601ff09ec"
      },
      "source": [
        "model = keras.models.Sequential()\n",
        "model.add(layers.Flatten())\n",
        "model.add(layers.Dense(128, activation='relu'))\n",
        "model.add(layers.Dense(10, activation='softmax'))\n",
        "\n",
        "model.build(input_shape=(None, 28, 28, 1))\n",
        "\n",
        "model.summary()"
      ],
      "execution_count": null,
      "outputs": [
        {
          "output_type": "stream",
          "text": [
            "Model: \"sequential_2\"\n",
            "_________________________________________________________________\n",
            "Layer (type)                 Output Shape              Param #   \n",
            "=================================================================\n",
            "flatten_2 (Flatten)          (None, 784)               0         \n",
            "_________________________________________________________________\n",
            "dense_4 (Dense)              (None, 128)               100480    \n",
            "_________________________________________________________________\n",
            "dense_5 (Dense)              (None, 10)                1290      \n",
            "=================================================================\n",
            "Total params: 101,770\n",
            "Trainable params: 101,770\n",
            "Non-trainable params: 0\n",
            "_________________________________________________________________\n"
          ],
          "name": "stdout"
        }
      ]
    },
    {
      "cell_type": "markdown",
      "metadata": {
        "id": "xwR3WwjYYxQM"
      },
      "source": [
        "## Functional API\n",
        "能建立更複雜、更靈活、更有創意的模型，使用方法相對麻煩"
      ]
    },
    {
      "cell_type": "code",
      "metadata": {
        "colab": {
          "base_uri": "https://localhost:8080/"
        },
        "id": "b9Iupttuaj4p",
        "outputId": "fac2d17b-fa44-40f6-fb34-bd2c663bf272"
      },
      "source": [
        "input_layer = keras.Input(shape=(28, 28, 1), name='input')\n",
        "flatten_layer = layers.Flatten()(input_layer)\n",
        "hidden_layer = layers.Dense(128, activation='relu')(flatten_layer)\n",
        "ouput_layer = layers.Dense(10, activation='softmax')(hidden_layer)\n",
        "\n",
        "model = keras.Model(inputs=input_layer, outputs=ouput_layer, name='MNIST')\n",
        "model.summary()"
      ],
      "execution_count": null,
      "outputs": [
        {
          "output_type": "stream",
          "text": [
            "Model: \"MNIST\"\n",
            "_________________________________________________________________\n",
            "Layer (type)                 Output Shape              Param #   \n",
            "=================================================================\n",
            "input (InputLayer)           [(None, 28, 28, 1)]       0         \n",
            "_________________________________________________________________\n",
            "flatten_3 (Flatten)          (None, 784)               0         \n",
            "_________________________________________________________________\n",
            "dense_6 (Dense)              (None, 128)               100480    \n",
            "_________________________________________________________________\n",
            "dense_7 (Dense)              (None, 10)                1290      \n",
            "=================================================================\n",
            "Total params: 101,770\n",
            "Trainable params: 101,770\n",
            "Non-trainable params: 0\n",
            "_________________________________________________________________\n"
          ],
          "name": "stdout"
        }
      ]
    }
  ]
}